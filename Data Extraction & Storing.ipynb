{
 "cells": [
  {
   "cell_type": "markdown",
   "metadata": {},
   "source": [
    "# Data Extraction"
   ]
  },
  {
   "cell_type": "code",
   "execution_count": 58,
   "metadata": {
    "scrolled": true
   },
   "outputs": [],
   "source": [
    "import pandas as pd\n",
    "import numpy as np\n",
    "import pymongo\n",
    "from pymongo import MongoClient\n",
    "import numpy as np\n",
    "\n",
    "# Population size\n",
    "file1 = 'data/singapore-residents-by-age-group-ethnic-group-and-sex-end-june-annual.csv'\n",
    "# Mobile Data usage\n",
    "file2 = 'data/mobile-data-usage.csv'\n",
    "# Mobile Usage (Activities)\n",
    "file3 = 'data/usage-of-mobile-devices-for-media-activities.csv'\n",
    "# Overall crime rates\n",
    "file4 = 'data/overall-crime-cases-crime-rate.csv'\n",
    "# Overall crime rates by crime type\n",
    "file5 = 'data/overall-crime-cases-reported-by-crime-classes.csv'\n",
    "\n",
    "df1 = pd.read_csv(file1, encoding='utf-8')\n",
    "df2 = pd.read_csv(file2, encoding='utf-8')\n",
    "df3 = pd.read_csv(file3, encoding='utf-8')\n",
    "df4 = pd.read_csv(file4, encoding='utf-8')\n",
    "df5 = pd.read_csv(file5, encoding='utf-8')\n",
    "\n",
    "# Getting info on each dataset\n",
    "# ADD BACK LATER\n",
    "\n",
    "############################################################\n",
    "### Extracting data from each dataset within 2008 - 2015 ###\n",
    "############################################################\n",
    "\n",
    "# create array containing years 2008 - 2015\n",
    "years_used = np.arange(2008,2016)\n",
    "\n",
    "# File 1 - Population size\n",
    "df1e = df1.loc[df1['year'].isin(years_used)]\n",
    "# File 2 - Mobile Data usage\n",
    "df2e = df2.iloc[df2['quarter'].iloc[14:46].index].reset_index(drop=True)\n",
    "\n",
    "# Remaining datasets do not need extraction\n",
    "\n",
    "# function meant to insert Data to mongoDb\n",
    "def insertData (collectName, df):\n",
    "    collection = db[collectName]\n",
    "    collection.insert_many(df.to_dict('records'))    \n",
    "    \n",
    "client = MongoClient()\n",
    "db = client['pds_CA2']\n",
    "insertData('populationSize', df1e)\n",
    "insertData('mobileDataUsage', df2e)\n",
    "insertData('mobileActivities', df3)\n",
    "# converting year to string because IT WON'T SUCCEED OTHERWISE\n",
    "df4['year'] = df4['year'].astype(str)\n",
    "insertData('crimeRates', df4)\n",
    "insertData('crimeRatesTypes', df5)   "
   ]
  }
 ],
 "metadata": {
  "kernelspec": {
   "display_name": "Python 3",
   "language": "python",
   "name": "python3"
  },
  "language_info": {
   "codemirror_mode": {
    "name": "ipython",
    "version": 3
   },
   "file_extension": ".py",
   "mimetype": "text/x-python",
   "name": "python",
   "nbconvert_exporter": "python",
   "pygments_lexer": "ipython3",
   "version": "3.6.4"
  }
 },
 "nbformat": 4,
 "nbformat_minor": 2
}
