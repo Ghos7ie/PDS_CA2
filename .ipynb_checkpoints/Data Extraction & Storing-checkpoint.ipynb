{
 "cells": [
  {
   "cell_type": "markdown",
   "metadata": {},
   "source": [
    "# Data Extraction"
   ]
  },
  {
   "cell_type": "code",
   "execution_count": 124,
   "metadata": {
    "scrolled": true
   },
   "outputs": [],
   "source": [
    "import pandas as pd\n",
    "import numpy as np\n",
    "import pymongo\n",
    "from pymongo import MongoClient\n",
    "import os\n",
    "import glob\n",
    "\n",
    "# Population size\n",
    "file1 = 'data/API_SP.POP.TOTL_DS2_en_csv_v2_10058048.csv'\n",
    "# Mobile Data usage\n",
    "file2 = 'data/mobile-data-usage.csv'\n",
    "# Mobile Usage (Activities)\n",
    "file3 = 'data/usage-of-mobile-devices-for-media-activities.csv'\n",
    "# Overall crime rates\n",
    "file4 = 'data/overall-crime-cases-crime-rate.csv'\n",
    "# Overall crime rates by crime type\n",
    "file5 = 'data/overall-crime-cases-reported-by-crime-classes.csv'\n",
    "# Distribution of mobile vs desktop vs tablet\n",
    "\n",
    "df1 = pd.read_csv(file1, encoding='utf-8', skiprows=4)\n",
    "df2 = pd.read_csv(file2, encoding='utf-8')\n",
    "df3 = pd.read_csv(file3, encoding='utf-8')\n",
    "df4 = pd.read_csv(file4, encoding='utf-8')\n",
    "df5 = pd.read_csv(file5, encoding='utf-8')\n",
    "# Distribution of mobile vs desktop vs tablet\n",
    "def readCompare ():\n",
    "    # define dir path\n",
    "    path =r'C:\\Jupyter\\PDS_CA2\\data\\comparison'\n",
    "    # gets all files that end with csv\n",
    "    allFiles = glob.glob(os.path.join(path, \"*.csv\"))\n",
    "    # loop within to read all csv and concat into df\n",
    "    df = pd.concat((pd.read_csv(f) for f in allFiles))\n",
    "    df = df.reset_index(drop=True)\n",
    "    return df.fillna(0)\n",
    "# end function   \n",
    "df6 = readCompare()\n",
    "\n",
    "# Getting info on each dataset\n",
    "# ADD BACK LATER\n",
    "\n",
    "############################################################\n",
    "### Extracting data from each dataset within 2008 - 2015 ###\n",
    "############################################################\n",
    "\n",
    "# create array containing years 2008 - 2015\n",
    "years_used = np.arange(2008,2016)\n",
    "\n",
    "# File 1 - Population size\n",
    "# File 1 - Population size\n",
    "df1e = df1.loc[df1['Country Name']=='Singapore']\n",
    "# Drop unneccessary rows\n",
    "df1e = df1e.drop(['Country Name', 'Country Code', 'Indicator Name', 'Indicator Code', 'Unnamed: 62'], axis=1)\n",
    "# transpose the dataframe\n",
    "df1e = df1e.T\n",
    "# reset index so that year column will come out and then rename it\n",
    "df1e = df1e.reset_index()\n",
    "df1e = df1e.rename(index=str, columns={'index':'year',\n",
    "                                      206:'population'})\n",
    "# get years i need\n",
    "df1e = df1e.iloc[45:55,:]\n",
    "df1e = df1e.reset_index(drop=True)\n",
    "\n",
    "# File 2 - Mobile Data usage\n",
    "df2e = df2.iloc[df2['quarter'].iloc[14:46].index].reset_index(drop=True)\n",
    "\n",
    "# Remaining datasets do not need extraction\n",
    "\n",
    "# function meant to insert Data to mongoDb\n",
    "def insertData (collectName, df):\n",
    "    collection = db[collectName]\n",
    "    collection.insert_many(df.to_dict('records'))    \n",
    "    \n",
    "client = MongoClient()\n",
    "db = client['pds_CA2']\n",
    "insertData('populationSize', df1e)\n",
    "#insertData('mobileDataUsage', df2e)\n",
    "#insertData('mobileActivities', df3)\n",
    "# converting year to string because IT WON'T SUCCEED OTHERWISE\n",
    "#df4['year'] = df4['year'].astype(str)\n",
    "#insertData('crimeRates', df4)\n",
    "#insertData('crimeRatesTypes', df5)   \n",
    "#insertData('deviceCompare', df6)"
   ]
  },
  {
   "cell_type": "code",
   "execution_count": 123,
   "metadata": {},
   "outputs": [
    {
     "name": "stdout",
     "output_type": "stream",
     "text": [
      "population\n"
     ]
    }
   ],
   "source": [
    "import pandas as pd\n",
    "import numpy as np\n",
    "import pymongo\n",
    "from pymongo import MongoClient\n",
    "import os\n",
    "import glob\n",
    "\n",
    "# Population size\n",
    "file1 = 'data/API_SP.POP.TOTL_DS2_en_csv_v2_10058048.csv'\n",
    "\n",
    "df1 = pd.read_csv(file1, encoding='utf-8', skiprows=4)\n",
    "# File 1 - Population size\n",
    "df1e = df1.loc[df1['Country Name']=='Singapore']\n",
    "df1e = df1e.drop(['Country Name', 'Country Code', 'Indicator Name', 'Indicator Code', 'Unnamed: 62'], axis=1)\n",
    "df1e = df1e.T\n",
    "df1e = df1e.reset_index()\n",
    "df1e = df1e.rename(index=str, columns={'index':'year',\n",
    "                                      206:'population'})\n",
    "df1e = df1e.iloc[45:55,:]\n",
    "df1e = df1e.reset_index(drop=True)"
   ]
  }
 ],
 "metadata": {
  "kernelspec": {
   "display_name": "Python 3",
   "language": "python",
   "name": "python3"
  },
  "language_info": {
   "codemirror_mode": {
    "name": "ipython",
    "version": 3
   },
   "file_extension": ".py",
   "mimetype": "text/x-python",
   "name": "python",
   "nbconvert_exporter": "python",
   "pygments_lexer": "ipython3",
   "version": "3.6.4"
  }
 },
 "nbformat": 4,
 "nbformat_minor": 2
}
